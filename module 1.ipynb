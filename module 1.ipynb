{
 "cells": [
  {
   "cell_type": "code",
   "execution_count": 66,
   "id": "f4070bd0-7e75-4e21-bb27-67a2095bcfcc",
   "metadata": {},
   "outputs": [
    {
     "data": {
      "text/plain": [
       "bool"
      ]
     },
     "execution_count": 66,
     "metadata": {},
     "output_type": "execute_result"
    }
   ],
   "source": [
    "#Create Variables and Check Types\n",
    "patient_id=101\n",
    "gene_symbol='TP53'\n",
    "expression_value=250.75\n",
    "is_significant= True\n",
    "\n",
    "#check the type of variable\n",
    "type(is_significant)\n"
   ]
  },
  {
   "cell_type": "code",
   "execution_count": 67,
   "id": "ef279867-53af-4665-8556-9dbd02f0d21a",
   "metadata": {},
   "outputs": [
    {
     "name": "stdout",
     "output_type": "stream",
     "text": [
      "The Original expression value is: 250.75\n",
      "The Scaled expression value is: 25.075\n",
      "--------------------\n",
      "total reads is: 100,000,000\n",
      "mapped reads is: 95,000\n",
      "mapping percentage is:0.0950%\n",
      "--------------------\n",
      "First part is: ATGC\n",
      "Second part is: GTAC\n",
      "Combined sequence with comma: ATGC,GTAC\n",
      "--------------------\n"
     ]
    }
   ],
   "source": [
    "#Perform Basic Operations\n",
    "scaled_expression = expression_value / 10\n",
    "print(f\"The Original expression value is: {expression_value}\")\n",
    "print(f'The Scaled expression value is: {scaled_expression}')\n",
    "print('-'*20)\n",
    "\n",
    "total_reads = 100_000_000\n",
    "mapped_reads = 95_000\n",
    "mapping_percentage = (mapped_reads / total_reads * 100)\n",
    "print(f'total reads is: {total_reads:,}')\n",
    "print(f'mapped reads is: {mapped_reads:,}')\n",
    "print(f'mapping percentage is:{mapping_percentage:,.4f}%')\n",
    "print('-'*20)\n",
    "\n",
    "first_part = 'ATGC' \n",
    "second_part='GTAC'\n",
    "combined_sequence = first_part+ ',' + second_part\n",
    "print(f'First part is: {first_part}')\n",
    "print(f'Second part is: {second_part}')\n",
    "#print(f'Combined sequence is: {combined_sequence}')\n",
    "print(f'Combined sequence with comma: {combined_sequence}')\n",
    "print('-'*20)\n",
    "\n",
    "\n",
    "#greeting = 'hello'\n",
    "#name = 'bioinformatician'\n",
    "#fullmessage = greeting + ',' + name + '!'\n",
    "#print(fullmessage)\n"
   ]
  },
  {
   "cell_type": "code",
   "execution_count": 69,
   "id": "ef6f2c00-55e0-4671-aadb-902fae6759e4",
   "metadata": {},
   "outputs": [
    {
     "data": {
      "text/plain": [
       "True"
      ]
     },
     "execution_count": 69,
     "metadata": {},
     "output_type": "execute_result"
    }
   ],
   "source": [
    "#Practice Comparison and Logical Operators\n",
    "expression_value > 100\n"
   ]
  },
  {
   "cell_type": "code",
   "execution_count": 70,
   "id": "9ede0c98-f02d-435b-a6e1-4d8995cd3b3c",
   "metadata": {},
   "outputs": [
    {
     "data": {
      "text/plain": [
       "False"
      ]
     },
     "execution_count": 70,
     "metadata": {},
     "output_type": "execute_result"
    }
   ],
   "source": [
    "expression_value < 50"
   ]
  },
  {
   "cell_type": "code",
   "execution_count": 71,
   "id": "18bdac42-780a-4292-8724-895d85028d86",
   "metadata": {},
   "outputs": [
    {
     "data": {
      "text/plain": [
       "False"
      ]
     },
     "execution_count": 71,
     "metadata": {},
     "output_type": "execute_result"
    }
   ],
   "source": [
    "gene1_length = 500\n",
    "gene2_length = 750\n",
    "gene1_length==gene2_length"
   ]
  },
  {
   "cell_type": "code",
   "execution_count": 72,
   "id": "2a7e1e45-0704-4d64-a597-07adef8a5250",
   "metadata": {},
   "outputs": [
    {
     "data": {
      "text/plain": [
       "True"
      ]
     },
     "execution_count": 72,
     "metadata": {},
     "output_type": "execute_result"
    }
   ],
   "source": [
    "gene1_length != gene2_length"
   ]
  },
  {
   "cell_type": "code",
   "execution_count": 73,
   "id": "111eaefd-1280-449d-b630-d6aaf8d04679",
   "metadata": {},
   "outputs": [
    {
     "data": {
      "text/plain": [
       "True"
      ]
     },
     "execution_count": 73,
     "metadata": {},
     "output_type": "execute_result"
    }
   ],
   "source": [
    "gene1_length <= gene2_length"
   ]
  },
  {
   "cell_type": "code",
   "execution_count": 74,
   "id": "56ab5ad2-3fcd-4e30-9db0-65884df3ff79",
   "metadata": {},
   "outputs": [
    {
     "data": {
      "text/plain": [
       "False"
      ]
     },
     "execution_count": 74,
     "metadata": {},
     "output_type": "execute_result"
    }
   ],
   "source": [
    "gene1_length >= gene2_length"
   ]
  },
  {
   "cell_type": "code",
   "execution_count": 78,
   "id": "82b573ab-284f-488b-8743-f3633d5d3706",
   "metadata": {},
   "outputs": [
    {
     "data": {
      "text/plain": [
       "True"
      ]
     },
     "execution_count": 78,
     "metadata": {},
     "output_type": "execute_result"
    }
   ],
   "source": [
    "first_part = 'ATGC' \n",
    "second_part='GTAC'\n",
    "#first_part == second_part\n",
    "first_part != second_part"
   ]
  },
  {
   "cell_type": "code",
   "execution_count": 79,
   "id": "5c16abbe-f335-4ed4-b57d-ee161771ec9e",
   "metadata": {},
   "outputs": [
    {
     "name": "stdout",
     "output_type": "stream",
     "text": [
      "result of has_mutation and is_expressed:\n",
      "False\n"
     ]
    }
   ],
   "source": [
    "has_mutation = True\n",
    "is_expressed = False\n",
    "\n",
    "print('result of has_mutation and is_expressed:')\n",
    "print(has_mutation and is_expressed)\n"
   ]
  },
  {
   "cell_type": "code",
   "execution_count": 81,
   "id": "b21e5a4b-95eb-4cfd-9806-815e7634b633",
   "metadata": {},
   "outputs": [
    {
     "name": "stdout",
     "output_type": "stream",
     "text": [
      "result of has_mutation or is_expressed:\n",
      "True\n"
     ]
    }
   ],
   "source": [
    "print('result of has_mutation or is_expressed:')\n",
    "print(has_mutation or is_expressed)"
   ]
  },
  {
   "cell_type": "code",
   "execution_count": 82,
   "id": "2e5e42d9-8f0d-449f-b705-94e7f6ef19f2",
   "metadata": {},
   "outputs": [
    {
     "name": "stdout",
     "output_type": "stream",
     "text": [
      "True\n",
      "False\n"
     ]
    }
   ],
   "source": [
    "gene_length = 600\n",
    "expression_value = 250.75\n",
    "\n",
    "print(gene_length > 500 and expression_value < 300)\n",
    "print(gene_length < 400 or expression_value > 500)"
   ]
  },
  {
   "cell_type": "code",
   "execution_count": null,
   "id": "c1956aee-d50d-444e-a486-2a1040df0b84",
   "metadata": {},
   "outputs": [],
   "source": []
  }
 ],
 "metadata": {
  "kernelspec": {
   "display_name": "Python 3 (ipykernel)",
   "language": "python",
   "name": "python3"
  },
  "language_info": {
   "codemirror_mode": {
    "name": "ipython",
    "version": 3
   },
   "file_extension": ".py",
   "mimetype": "text/x-python",
   "name": "python",
   "nbconvert_exporter": "python",
   "pygments_lexer": "ipython3",
   "version": "3.9.21"
  }
 },
 "nbformat": 4,
 "nbformat_minor": 5
}
