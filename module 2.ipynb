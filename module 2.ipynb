{
 "cells": [
  {
   "cell_type": "code",
   "execution_count": 30,
   "id": "bd471873-88be-459d-81fd-d94deed97232",
   "metadata": {},
   "outputs": [
    {
     "name": "stdout",
     "output_type": "stream",
     "text": [
      "checking for gene expression value over 150.\n",
      "------------------------------\n",
      "gene expression is: 150\n",
      "gene is highly expressed.\n",
      "completed check.\n",
      "\n",
      "\n",
      "checking for gene expression value less than or equal to 50.\n",
      "------------------------------\n",
      "gene expression is 150\n",
      "gene expression is over 50.\n",
      "completed check.\n",
      "------------------------------\n",
      "\n",
      "\n",
      "\n",
      "sequencing coverage is low.\n",
      "sequencing coverage is 88.\n"
     ]
    }
   ],
   "source": [
    "#Utilizing if and else with operators to determine if gene expression is high.\n",
    "gene_expression = 150 \n",
    "\n",
    "print('checking for gene expression value over 150.')\n",
    "print('-'*30)\n",
    "print(f'gene expression is: {gene_expression}')\n",
    "if gene_expression > 100:\n",
    "    print(\"gene is highly expressed.\")\n",
    "else:\n",
    "    print(\"gene expression is low.\")\n",
    "print('completed check.')\n",
    "print('\\n')\n",
    "\n",
    "print('checking for gene expression value less than or equal to 50.')\n",
    "print('-'*30)\n",
    "print(f'gene expression is {gene_expression}')\n",
    "if gene_expression <= 50:\n",
    "    print('gene expression is low.')\n",
    "else:\n",
    "    print('gene expression is over 50.')\n",
    "print('completed check.')\n",
    "print('-'*30)\n",
    "print('\\n'*2)\n",
    "\n",
    "\n",
    "sequencing_coverage = 88\n",
    "if sequencing_coverage > 95:\n",
    "    print('sequencing coverage is high.')\n",
    "elif sequencing_coverage > 90:\n",
    "    print('sequencing coverage is medium.')\n",
    "else:\n",
    "    print('sequencing coverage is low.')\n",
    "    print(f'sequencing coverage is {sequencing_coverage}.')"
   ]
  },
  {
   "cell_type": "code",
   "execution_count": 33,
   "id": "acb0822b-9ac8-43e9-82ac-d802bfac9441",
   "metadata": {},
   "outputs": [
    {
     "name": "stdout",
     "output_type": "stream",
     "text": [
      "Potential functional impact suspected.\n",
      "Data quality warning issued.\n"
     ]
    }
   ],
   "source": [
    "#Utilizing booleans with if and else decision making tools to detect impacts and mutations.\n",
    "mutation_found = True\n",
    "expression_high = True\n",
    "is_immune_gene = False\n",
    "if mutation_found and expression_high: \n",
    "    print(\"Potential functional impact suspected.\")\n",
    "else:\n",
    "    print(\"Potential functional impact is not suspected.\")\n",
    "\n",
    "low_sequencing_coverage = True\n",
    "poor_alignment_quality = False\n",
    "if low_sequencing_coverage or poor_alignment_quality:\n",
    "    print( \"Data quality warning issued.\")\n",
    "else:\n",
    "    print( \"Data quality warning is not issued.\")"
   ]
  },
  {
   "cell_type": "code",
   "execution_count": 35,
   "id": "94a88004-009f-449b-bee0-db2c8bca98ff",
   "metadata": {},
   "outputs": [
    {
     "name": "stdout",
     "output_type": "stream",
     "text": [
      "Data needs processing.\n"
     ]
    }
   ],
   "source": [
    "#Practicing nots to create outputs that showcase if data was processed and the variable is set to False\n",
    "data_processed = False\n",
    "if not data_processed: \n",
    "    print('Data needs processing.')\n",
    "else:\n",
    "    print('Data is ready.')"
   ]
  },
  {
   "cell_type": "code",
   "execution_count": 39,
   "id": "ee7e213a-2d0b-4414-905f-04514cffbc02",
   "metadata": {},
   "outputs": [
    {
     "name": "stdout",
     "output_type": "stream",
     "text": [
      "both are above the minimum.\n"
     ]
    }
   ],
   "source": [
    "#Incorporating operators within if/elif/else statements to practice multiple conditional requirements for gene lengths and GC nucleotide content\n",
    "gene_length = 750\n",
    "gc_content = 0.65\n",
    "\n",
    "if gene_length > 500 and gc_content > 0.6: \n",
    "    print('both are above the minimum.')\n",
    "elif gene_length <300 or gc_content <0.4:\n",
    "    print('both are below the minimum.')\n",
    "else: \n",
    "    print('length and gc content are not fitting the requirements.')"
   ]
  },
  {
   "cell_type": "code",
   "execution_count": 41,
   "id": "a171d0ab-f6a0-4d3f-a74f-a1db1fa968dc",
   "metadata": {},
   "outputs": [
    {
     "name": "stdout",
     "output_type": "stream",
     "text": [
      "sample found.\n",
      "rna quality is high. proceed with sequencing.\n"
     ]
    }
   ],
   "source": [
    "#Incorporating booleans within if/elif/else statements and practing the use of additional conditions within a condition to process all conditional information regarding sample availibilty and quality\n",
    "sample_available = True\n",
    "rna_quality_high = True\n",
    "if sample_available: \n",
    "    print('sample found.')\n",
    "    if rna_quality_high:\n",
    "        print('rna quality is high. proceed with sequencing.')\n",
    "    else: \n",
    "        print('rna quality is low. cannot proceed with sequencing.')\n",
    "else:\n",
    "    print('sample not available. cannot proceed.')\n"
   ]
  },
  {
   "cell_type": "code",
   "execution_count": null,
   "id": "757fb709-901d-4c53-a89b-79cf9a744f69",
   "metadata": {},
   "outputs": [],
   "source": []
  }
 ],
 "metadata": {
  "kernelspec": {
   "display_name": "Python 3 (ipykernel)",
   "language": "python",
   "name": "python3"
  },
  "language_info": {
   "codemirror_mode": {
    "name": "ipython",
    "version": 3
   },
   "file_extension": ".py",
   "mimetype": "text/x-python",
   "name": "python",
   "nbconvert_exporter": "python",
   "pygments_lexer": "ipython3",
   "version": "3.9.21"
  }
 },
 "nbformat": 4,
 "nbformat_minor": 5
}
