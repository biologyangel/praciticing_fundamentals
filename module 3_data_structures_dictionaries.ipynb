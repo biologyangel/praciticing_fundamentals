{
 "cells": [
  {
   "cell_type": "code",
   "execution_count": 13,
   "id": "39d618f5-b419-41f1-9b6f-339f14d5dd97",
   "metadata": {},
   "outputs": [
    {
     "name": "stdout",
     "output_type": "stream",
     "text": [
      "{'TP53': 3930, 'BRCA1': 8117, 'MYC': 1401}\n"
     ]
    }
   ],
   "source": [
    "gene_lengths_dict = {\"TP53\": 3930, \"BRCA1\" : 8117, \"MYC\":1401}\n",
    "print(gene_lengths_dict)"
   ]
  },
  {
   "cell_type": "code",
   "execution_count": 3,
   "id": "f7fd9edc-d7e6-4ba5-baee-1752602cea41",
   "metadata": {},
   "outputs": [
    {
     "name": "stdout",
     "output_type": "stream",
     "text": [
      "{'sampleA': 'Control', 'SampleB': 'Treated', 'SampleC': 'Control'}\n"
     ]
    }
   ],
   "source": [
    "gene_lengths_dict = {\"TP53\": 3930, \"BRCA1\" : 8117, \"MYC\":1401}\n",
    "sample_treatments = {\"sampleA\": \"Control\", \"SampleB\" : \"Treated\", \"SampleC\" : \"Control\"}\n",
    "print(sample_treatments)"
   ]
  },
  {
   "cell_type": "code",
   "execution_count": 5,
   "id": "bd1c5f3b-36c9-4460-9fa2-1534a435688e",
   "metadata": {},
   "outputs": [
    {
     "name": "stdout",
     "output_type": "stream",
     "text": [
      "3930\n"
     ]
    }
   ],
   "source": [
    "print(gene_lengths_dict[\"TP53\"]) #my_dict[Key} gives the value asscoated with that key in the specified dict"
   ]
  },
  {
   "cell_type": "code",
   "execution_count": 14,
   "id": "52b04c60-5cf2-4247-b593-4dff251b8ab6",
   "metadata": {},
   "outputs": [
    {
     "name": "stdout",
     "output_type": "stream",
     "text": [
      "{'TP53': 3930, 'BRCA1': 8117, 'MYC': 1401, 'VEGFA': 2500}\n"
     ]
    }
   ],
   "source": [
    "gene_lengths_dict[\"VEGFA\"] = 2500 #adding a key and value to the dict\n",
    "print(gene_lengths_dict)"
   ]
  },
  {
   "cell_type": "code",
   "execution_count": 15,
   "id": "0ec4220e-7d7c-4143-a2e5-f7826976eaf6",
   "metadata": {},
   "outputs": [
    {
     "name": "stdout",
     "output_type": "stream",
     "text": [
      "{'TP53': 3930, 'BRCA1': 8118, 'MYC': 1401, 'VEGFA': 2500}\n"
     ]
    }
   ],
   "source": [
    "gene_lengths_dict[\"BRCA1\"] = 8118 # modifying a key with a new value in dict\n",
    "print(gene_lengths_dict)"
   ]
  },
  {
   "cell_type": "code",
   "execution_count": 17,
   "id": "9b8cf7b2-9f3d-46d4-b9e3-9c57ab80ef64",
   "metadata": {},
   "outputs": [
    {
     "name": "stdout",
     "output_type": "stream",
     "text": [
      "{'SampleB': 'Treated', 'SampleC': 'Control'}\n"
     ]
    }
   ],
   "source": [
    "del sample_treatments[\"sampleA\"]\n",
    "print(sample_treatments)"
   ]
  },
  {
   "cell_type": "code",
   "execution_count": 26,
   "id": "d4bb3335-dc56-4e2f-bde5-1ef782911a38",
   "metadata": {},
   "outputs": [
    {
     "name": "stdout",
     "output_type": "stream",
     "text": [
      "Treated\n"
     ]
    }
   ],
   "source": [
    "removed_treatment = sample_treatments.pop(\"SampleB\")\n",
    "print(removed_treatment)"
   ]
  },
  {
   "cell_type": "code",
   "execution_count": 27,
   "id": "32cc9711-297d-463c-a5d7-344c9d1d6c62",
   "metadata": {},
   "outputs": [
    {
     "name": "stdout",
     "output_type": "stream",
     "text": [
      "dict_keys(['TP53', 'BRCA1', 'MYC', 'VEGFA'])\n",
      "dict_values([3930, 8118, 1401, 2500])\n",
      "dict_items([('TP53', 3930), ('BRCA1', 8118), ('MYC', 1401), ('VEGFA', 2500)])\n"
     ]
    }
   ],
   "source": [
    "print(gene_lengths_dict.keys()) #view of all keys in dictionary\n",
    "print(gene_lengths_dict.values()) #view of all values \n",
    "print(gene_lengths_dict.items()) #view of all key-value pairs as tuples (key,value)\n"
   ]
  },
  {
   "cell_type": "code",
   "execution_count": 29,
   "id": "b094ea7b-f3a9-4ed6-b8a5-63847e608110",
   "metadata": {},
   "outputs": [
    {
     "name": "stdout",
     "output_type": "stream",
     "text": [
      "TP53\n",
      "BRCA1\n",
      "MYC\n",
      "VEGFA\n",
      "Gene TP53 has length 3930\n",
      "Gene BRCA1 has length 8118\n",
      "Gene MYC has length 1401\n",
      "Gene VEGFA has length 2500\n"
     ]
    }
   ],
   "source": [
    "#looping through a dictionary defaults loops through the keys\n",
    "for gene_id in gene_lengths_dict: #same as for gene_length in gene_lengths_dict.keys()\n",
    "    print(gene_id)\n",
    "\n",
    "#looping through keys and values simultaaneously \n",
    "for gene_id, length in gene_lengths_dict.items():\n",
    "    print(f'Gene {gene_id} has length {length}')"
   ]
  },
  {
   "cell_type": "code",
   "execution_count": 31,
   "id": "c6950918-4b1b-4538-8c32-a067149fbeb0",
   "metadata": {},
   "outputs": [
    {
     "name": "stdout",
     "output_type": "stream",
     "text": [
      "True\n",
      "False\n",
      "False\n"
     ]
    }
   ],
   "source": [
    "print('TP53' in gene_lengths_dict)\n",
    "print('APOE' in gene_lengths_dict)\n",
    "print(8118 in gene_lengths_dict) #false because the in keyword only chekcs for keys not values"
   ]
  },
  {
   "cell_type": "code",
   "execution_count": 32,
   "id": "cd72ec4d-28bb-4a0a-8127-1b1ad7add1fc",
   "metadata": {},
   "outputs": [],
   "source": [
    "#BASIC OPERATIONS PRACTICE WITH DICTIONARIES"
   ]
  },
  {
   "cell_type": "code",
   "execution_count": 34,
   "id": "d6f14508-5048-4238-b954-7757c8257837",
   "metadata": {},
   "outputs": [],
   "source": [
    "gene_annotations = {'TP53': 'Tumor Protein p53', 'BRCA1': 'DNA Repair Associated', 'MYC': 'MYC Proto-Oncogene, BHLH Transcription Factor'}"
   ]
  },
  {
   "cell_type": "code",
   "execution_count": 66,
   "id": "814949ce-030a-4cc4-9a45-05e4c003b2cc",
   "metadata": {},
   "outputs": [],
   "source": [
    "sample_metadata = {'Sample_001': 150000000, 'Sample_002': 200000000, 'Sample_003': 180000000}"
   ]
  },
  {
   "cell_type": "code",
   "execution_count": 67,
   "id": "620b8c6e-8b52-494f-9926-bc1460d17c35",
   "metadata": {},
   "outputs": [
    {
     "name": "stdout",
     "output_type": "stream",
     "text": [
      "{'TP53': 'Tumor Protein p53', 'BRCA1': 'DNA Repair Associated', 'MYC': 'MYC Proto-Oncogene, BHLH Transcription Factor', 'VEGFA': 'Vascular Endothelial Growth Factor A'}\n",
      "{'Sample_001': 150000000, 'Sample_002': 200000000, 'Sample_003': 180000000}\n"
     ]
    }
   ],
   "source": [
    "print(gene_annotations)\n",
    "print(sample_metadata)"
   ]
  },
  {
   "cell_type": "code",
   "execution_count": 56,
   "id": "2ea37d01-3b24-4746-9bf6-5cad4554e2c9",
   "metadata": {},
   "outputs": [
    {
     "name": "stdout",
     "output_type": "stream",
     "text": [
      "DNA Repair Associated\n",
      "200000000\n"
     ]
    }
   ],
   "source": [
    "print(gene_annotations['BRCA1'])\n",
    "print(sample_metadata['Sample_002'])"
   ]
  },
  {
   "cell_type": "code",
   "execution_count": 57,
   "id": "d4a8ea85-c38b-4de4-9e09-e2a00e46cc8a",
   "metadata": {},
   "outputs": [
    {
     "name": "stdout",
     "output_type": "stream",
     "text": [
      "{'TP53': 'Tumor Protein p53', 'BRCA1': 'DNA Repair Associated', 'MYC': 'MYC Proto-Oncogene, BHLH Transcription Factor', 'VEGFA': 'Vascular Endothelial Growth Factor A'}\n"
     ]
    }
   ],
   "source": [
    "gene_annotations['VEGFA'] = 'Vascular Endothelial Growth Factor A'\n",
    "print(gene_annotations)"
   ]
  },
  {
   "cell_type": "code",
   "execution_count": 76,
   "id": "3c410142-378e-4199-9b48-72ad2e09ac71",
   "metadata": {},
   "outputs": [
    {
     "name": "stdout",
     "output_type": "stream",
     "text": [
      "160000000\n",
      "{'Sample_001': 160000000, 'Sample_002': 200000000, 'Sample_003': 1800000000}\n"
     ]
    }
   ],
   "source": [
    "sample_metadata['Sample_001'] = 160000000\n",
    "print(sample_metadata['Sample_001'])\n",
    "print(sample_metadata)"
   ]
  },
  {
   "cell_type": "code",
   "execution_count": 93,
   "id": "6be145ea-23ca-4ea5-adca-4bb87c9aa637",
   "metadata": {},
   "outputs": [],
   "source": [
    "#del sample_metadata['Sample_003']\n",
    "#print(sample_metadata)"
   ]
  },
  {
   "cell_type": "code",
   "execution_count": 95,
   "id": "1a83a252-c790-469c-830d-bfa493d30163",
   "metadata": {},
   "outputs": [
    {
     "name": "stdout",
     "output_type": "stream",
     "text": [
      "{'Sample_001': 160000000, 'Sample_002': 200000000, 'Sample_003': 1800000000}\n"
     ]
    }
   ],
   "source": [
    "sample_metadata['Sample_003']= 1800000000\n",
    "print(sample_metadata)"
   ]
  },
  {
   "cell_type": "code",
   "execution_count": 96,
   "id": "c1581910-8572-403e-a453-24bdf9106c3b",
   "metadata": {},
   "outputs": [
    {
     "name": "stdout",
     "output_type": "stream",
     "text": [
      "1800000000\n"
     ]
    }
   ],
   "source": [
    "if \"Sample_003\" in sample_metadata:\n",
    "    removed_treatment = sample_metadata.pop('Sample_003')\n",
    "    print(removed_treatment)"
   ]
  },
  {
   "cell_type": "code",
   "execution_count": 102,
   "id": "bbdc6725-cfd8-4422-869c-8816f2004f8b",
   "metadata": {},
   "outputs": [
    {
     "name": "stdout",
     "output_type": "stream",
     "text": [
      "TP53\n",
      "BRCA1\n",
      "MYC\n",
      "VEGFA\n"
     ]
    }
   ],
   "source": [
    "for gene_id in gene_annotations.keys(): \n",
    "    print(gene_id)"
   ]
  },
  {
   "cell_type": "code",
   "execution_count": 103,
   "id": "bb595228-0a38-4370-a1af-41801d257552",
   "metadata": {},
   "outputs": [
    {
     "name": "stdout",
     "output_type": "stream",
     "text": [
      "Tumor Protein p53\n",
      "DNA Repair Associated\n",
      "MYC Proto-Oncogene, BHLH Transcription Factor\n",
      "Vascular Endothelial Growth Factor A\n"
     ]
    }
   ],
   "source": [
    "for lengths in gene_annotations.values():\n",
    "    print(lengths)"
   ]
  },
  {
   "cell_type": "code",
   "execution_count": 108,
   "id": "d69452e6-43d2-42ed-97fa-7009b7e0cd04",
   "metadata": {},
   "outputs": [
    {
     "name": "stdout",
     "output_type": "stream",
     "text": [
      "Gene TP53 has length Tumor Protein p53\n",
      "Gene BRCA1 has length DNA Repair Associated\n",
      "Gene MYC has length MYC Proto-Oncogene, BHLH Transcription Factor\n",
      "Gene VEGFA has length Vascular Endothelial Growth Factor A\n"
     ]
    }
   ],
   "source": [
    "for gene_id, lengths in gene_annotations.items():\n",
    "    print(f'Gene {gene_id} has length {lengths}')"
   ]
  },
  {
   "cell_type": "code",
   "execution_count": 110,
   "id": "cd4a7a92-f1ba-4265-a934-4dc92752808c",
   "metadata": {},
   "outputs": [
    {
     "name": "stdout",
     "output_type": "stream",
     "text": [
      "160000000\n",
      "200000000\n"
     ]
    }
   ],
   "source": [
    "for lengths in sample_metadata.values():\n",
    "    print(lengths)"
   ]
  },
  {
   "cell_type": "code",
   "execution_count": 111,
   "id": "d7477d9d-0c2a-4f4d-a506-f37bf97df595",
   "metadata": {},
   "outputs": [
    {
     "name": "stdout",
     "output_type": "stream",
     "text": [
      "('Sample_001', 160000000)\n",
      "('Sample_002', 200000000)\n"
     ]
    }
   ],
   "source": [
    "for lengths in sample_metadata.items():\n",
    "    print(lengths)"
   ]
  },
  {
   "cell_type": "code",
   "execution_count": 117,
   "id": "af562ebf-2a52-458a-b427-1dc37d572bd9",
   "metadata": {},
   "outputs": [
    {
     "name": "stdout",
     "output_type": "stream",
     "text": [
      "Sample ID: Sample_001, and it's depth: 160000000.\n",
      "Sample ID: Sample_002, and it's depth: 200000000.\n"
     ]
    }
   ],
   "source": [
    "for id, depth in sample_metadata.items():\n",
    "    print(f\"Sample ID: {id}, and it's depth: {depth}.\")"
   ]
  },
  {
   "cell_type": "code",
   "execution_count": 121,
   "id": "1b3559b7-701e-48bd-8778-f75670612ead",
   "metadata": {},
   "outputs": [
    {
     "name": "stdout",
     "output_type": "stream",
     "text": [
      "True\n"
     ]
    }
   ],
   "source": [
    "print('TP53' in gene_annotations)"
   ]
  },
  {
   "cell_type": "code",
   "execution_count": 122,
   "id": "ce28498c-e303-4c65-9a86-1022bf94ffca",
   "metadata": {},
   "outputs": [
    {
     "name": "stdout",
     "output_type": "stream",
     "text": [
      "False\n"
     ]
    }
   ],
   "source": [
    "print('Sample_04' in sample_metadata)"
   ]
  }
 ],
 "metadata": {
  "kernelspec": {
   "display_name": "Python 3 (ipykernel)",
   "language": "python",
   "name": "python3"
  },
  "language_info": {
   "codemirror_mode": {
    "name": "ipython",
    "version": 3
   },
   "file_extension": ".py",
   "mimetype": "text/x-python",
   "name": "python",
   "nbconvert_exporter": "python",
   "pygments_lexer": "ipython3",
   "version": "3.9.21"
  }
 },
 "nbformat": 4,
 "nbformat_minor": 5
}
