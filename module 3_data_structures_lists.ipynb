{
 "cells": [
  {
   "cell_type": "code",
   "execution_count": 6,
   "id": "34dabde7-302b-42ca-9889-f4f22ceb511c",
   "metadata": {},
   "outputs": [
    {
     "name": "stdout",
     "output_type": "stream",
     "text": [
      "TP53\n",
      "BRCA1\n",
      "MYC\n",
      "MYC\n",
      "\n",
      "['BRCA1', 'VEGFA', 'MYC']\n"
     ]
    }
   ],
   "source": [
    "gene_ids = [\"TP53\", \"BRCA1\", \"VEGFA\", \"MYC\"]\n",
    "print(gene_ids[0])\n",
    "print(gene_ids[1])\n",
    "print(gene_ids[-1])\n",
    "print(gene_ids[3])\n",
    "print()\n",
    "print(gene_ids[1:4])"
   ]
  },
  {
   "cell_type": "code",
   "execution_count": 7,
   "id": "f0edfbd5-6816-4801-87ea-44ef29452a84",
   "metadata": {},
   "outputs": [
    {
     "name": "stdout",
     "output_type": "stream",
     "text": [
      "['BRCA1', 'VEGFA', 'MYC']\n",
      "['TP53', 'BRCA1', 'VEGFA']\n",
      "['MYC', 'APOE', 'CDH1']\n"
     ]
    }
   ],
   "source": [
    "gene_ids = [\"TP53\", \"BRCA1\", \"VEGFA\", \"MYC\", \"APOE\", \"CDH1\"]\n",
    "print(gene_ids[1:4])  # Output: ['BRCA1', 'VEGFA', 'MYC'] (Items at index 1, 2, 3)\n",
    "print(gene_ids[:3])   # Output: ['TP53', 'BRCA1', 'VEGFA'] (Items at index 0, 1, 2)\n",
    "print(gene_ids[3:])   # Output: ['MYC', 'APOE', 'CDH1'] (Items from index 3 to the end)"
   ]
  },
  {
   "cell_type": "code",
   "execution_count": 8,
   "id": "b3a21ec1-6283-4dfc-a631-37fd1746f273",
   "metadata": {},
   "outputs": [
    {
     "name": "stdout",
     "output_type": "stream",
     "text": [
      "['GeneA', 'GeneB', 'GeneC']\n",
      "['GeneA', 'GeneD', 'GeneB', 'GeneC']\n"
     ]
    }
   ],
   "source": [
    "gene_list = [\"GeneA\", \"GeneB\"]\n",
    "gene_list.append(\"GeneC\")\n",
    "print(gene_list) # Output: ['GeneA', 'GeneB', 'GeneC']\n",
    "\n",
    "gene_list.insert(1, \"GeneD\") # Insert \"GeneD\" at index 1\n",
    "print(gene_list) # Output: ['GeneA', 'GeneD', 'GeneB', 'GeneC']"
   ]
  },
  {
   "cell_type": "code",
   "execution_count": 9,
   "id": "8d665070-0fe9-4c6c-84f6-7530e7d8c472",
   "metadata": {},
   "outputs": [
    {
     "name": "stdout",
     "output_type": "stream",
     "text": [
      "[150, 200, 75, 120]\n",
      "[150, 75, 120]\n",
      "200\n"
     ]
    }
   ],
   "source": [
    "expression_values = [150, 75, 200, 75, 120]\n",
    "expression_values.remove(75) # Removes the first 75\n",
    "print(expression_values)     # Output: [150, 200, 75, 120]\n",
    "\n",
    "removed_value = expression_values.pop(1) # Removes item at index 1 (which is now 200)\n",
    "print(expression_values)     # Output: [150, 75, 120]\n",
    "print(removed_value)         # Output: 200"
   ]
  },
  {
   "cell_type": "code",
   "execution_count": 11,
   "id": "f8e0d4aa-e03d-47bd-80b5-a6a494e1abf3",
   "metadata": {},
   "outputs": [
    {
     "name": "stdout",
     "output_type": "stream",
     "text": [
      "3\n"
     ]
    }
   ],
   "source": [
    "sample_names = [\"Sample1\", \"Sample2\", \"Sample3\"]\n",
    "print(len(sample_names)) # Output: 3 #returns the number of items in the list"
   ]
  },
  {
   "cell_type": "code",
   "execution_count": null,
   "id": "4fdea245-caef-47f8-b61b-5a0c924c4b8f",
   "metadata": {},
   "outputs": [],
   "source": []
  }
 ],
 "metadata": {
  "kernelspec": {
   "display_name": "Python 3 (ipykernel)",
   "language": "python",
   "name": "python3"
  },
  "language_info": {
   "codemirror_mode": {
    "name": "ipython",
    "version": 3
   },
   "file_extension": ".py",
   "mimetype": "text/x-python",
   "name": "python",
   "nbconvert_exporter": "python",
   "pygments_lexer": "ipython3",
   "version": "3.9.21"
  }
 },
 "nbformat": 4,
 "nbformat_minor": 5
}
