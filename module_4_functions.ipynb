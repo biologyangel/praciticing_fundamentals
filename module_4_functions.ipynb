{
 "cells": [
  {
   "cell_type": "code",
   "execution_count": 15,
   "id": "e0ff464c-3c35-4d96-b90d-278b46e5bc83",
   "metadata": {},
   "outputs": [
    {
     "name": "stdout",
     "output_type": "stream",
     "text": [
      "The difference is 65.\n"
     ]
    }
   ],
   "source": [
    "def subtract_numbers (num1, num2):\n",
    "    difference = num1 - num2 \n",
    "    return difference\n",
    "\n",
    "total_difference = subtract_numbers(100, 35) \n",
    "print(f'The difference is {total_difference}.')"
   ]
  },
  {
   "cell_type": "code",
   "execution_count": 25,
   "id": "e904cb1c-bbe7-4fa5-a0ce-0fb41a5d06af",
   "metadata": {},
   "outputs": [
    {
     "name": "stdout",
     "output_type": "stream",
     "text": [
      "Hello, Angel! Welcome to the analysis.\n"
     ]
    }
   ],
   "source": [
    "def greet_user(name):\n",
    "    #greeting= f'Hello, {name}! Welcome to the analysis.'\n",
    "    #return greeting\n",
    "    print(f'Hello, {name}! Welcome to the analysis.')\n",
    "\n",
    "#actual_greeting = greet_user('Angel')\n",
    "#print(actual_greeting)\n",
    "greet_user('Angel')"
   ]
  },
  {
   "cell_type": "code",
   "execution_count": 43,
   "id": "06ee6e62-19a0-4cdb-a886-84a54d5937d9",
   "metadata": {},
   "outputs": [
    {
     "name": "stdout",
     "output_type": "stream",
     "text": [
      "DNA length is: 8\n"
     ]
    }
   ],
   "source": [
    "def get_dna_length(dna_sequence):\n",
    "    length = len(dna_sequence)\n",
    "    return length\n",
    "    \n",
    "#original_dna_sequence = 'ATGCGTAC'\n",
    "short_sequence= get_dna_length('ATGCGTAC')\n",
    "#print(f\"DNA length of {original_dna_sequence} is: {short_sequence}\")\n",
    "print(f\"DNA length is: {short_sequence}\")"
   ]
  },
  {
   "cell_type": "code",
   "execution_count": 45,
   "id": "401b9a89-8c98-45a5-977f-d8f74ef98dcb",
   "metadata": {},
   "outputs": [
    {
     "name": "stdout",
     "output_type": "stream",
     "text": [
      "Gene: GENE123, Length: 13, & GC Content: 53.85%\n"
     ]
    }
   ],
   "source": [
    "#function returning multiple values- python packs into single tuple and then you can unpack when you call the function \n",
    "\n",
    "def analyze_gene (gene_id, sequence):\n",
    "    length = len(sequence) \n",
    "    gc_count = sequence.count('G') + sequence.count('C') + sequence.count('g') + sequence.count('c')\n",
    "    if length > 0 : #control flow keyword - if, condition - length > 0 \n",
    "        gc_percent = (gc_count / length) * 100 \n",
    "    else: # also part of the control flow \n",
    "        gc_percent = 0.0 # the 0.0 is a float number- if the sequence was empty. length would be 0, the if would be false, and this line would execute to 0.0 \n",
    "    return length, gc_percent #the return keyword tell the function to stop nad send back the specified values to the part of the code that called this function, python packs the values as a tuple and the order if important   \n",
    "\n",
    "my_gene_id = 'GENE123'\n",
    "my_sequence = 'ATGCGATCGTAGC'\n",
    "\n",
    "gene_length, gene_gc = analyze_gene(my_gene_id, my_sequence)\n",
    "\n",
    "print(f\"Gene: {my_gene_id}, Length: {gene_length}, & GC Content: {gene_gc:.2f}%\")"
   ]
  },
  {
   "cell_type": "code",
   "execution_count": 46,
   "id": "660b3053-82a8-4bcb-bca1-d05e66204ac9",
   "metadata": {},
   "outputs": [],
   "source": [
    "#function with no explicit return statement- no retunr statement, python automatically returns 'none'\n",
    "\n",
    "import datetime\n",
    "\n",
    "def print_analysis_summary(gene_id, length, gc_content):\n",
    "    print(f'\\n--- Analysis Summary for {gene_id} ---')\n",
    "    print(f'Length: {length} bp')\n",
    "    print(f'GC Content: {gc_content: .2f}%')\n",
    "\n",
    "def log_event(message):\n",
    "    timestamp= datetime.datetime.now().strftime ('%Y-%m-%d %H: %M: %S')\n",
    "    print(f'[{timestamp}] {message}')"
   ]
  },
  {
   "cell_type": "code",
   "execution_count": 47,
   "id": "2679c520-2783-4168-bc62-718618054c2f",
   "metadata": {},
   "outputs": [
    {
     "name": "stdout",
     "output_type": "stream",
     "text": [
      "\n",
      "--- Analysis Summary for Gene456 ---\n",
      "Length: 1500 bp\n",
      "GC Content:  62.50%\n",
      "[2025-06-12 14: 57: 28] Starting data validation.\n",
      "\n",
      "--- Analysis Summary for GENE789 ---\n",
      "Length: 500 bp\n",
      "GC Content:  40.00%\n",
      "The \"print_analysis_summary\" function implicitly returned: None\n"
     ]
    }
   ],
   "source": [
    "#code outside function and then calling a logging function \n",
    "\n",
    "print_analysis_summary('Gene456', 1500, 62.5)\n",
    "\n",
    "log_event('Starting data validation.')\n",
    "result_of_summary = print_analysis_summary('GENE789', 500, 40.0)\n",
    "print(f'The \"print_analysis_summary\" function implicitly returned: {result_of_summary}')"
   ]
  },
  {
   "cell_type": "code",
   "execution_count": 48,
   "id": "1e0965de-b1d0-45bb-ada1-05f4ff4a3a9d",
   "metadata": {},
   "outputs": [],
   "source": [
    "# function with default arguments- giving parameters a default value incase the caller does not provide and argument for that parameter\n",
    "def generate_sequence(length, base_type= 'DNA'):\n",
    "    if base_type == 'DNA':\n",
    "        return 'A' * length\n",
    "    elif base_type == 'RNA':\n",
    "        return 'U' * length \n",
    "    else: \n",
    "        return 'X' * length \n",
    "        "
   ]
  },
  {
   "cell_type": "code",
   "execution_count": 49,
   "id": "f60c0db1-cc90-4073-8123-48b3f06d7b46",
   "metadata": {},
   "outputs": [
    {
     "name": "stdout",
     "output_type": "stream",
     "text": [
      "Default sequence: AAAAAAAAAA\n",
      "RNA sequence: UUUUUUUUUUUUUUU\n",
      "Explicit DNA sequence: AAAAA\n"
     ]
    }
   ],
   "source": [
    "#code outside the function \n",
    "dna_seq = generate_sequence(10)\n",
    "print(f'Default sequence: {dna_seq}')\n",
    "\n",
    "rna_seq= generate_sequence(15, 'RNA')\n",
    "print(f'RNA sequence: {rna_seq}')\n",
    "\n",
    "dna_seq_explicit = generate_sequence(5, 'DNA')\n",
    "print(f'Explicit DNA sequence: {dna_seq_explicit}')"
   ]
  },
  {
   "cell_type": "code",
   "execution_count": 50,
   "id": "b56c3064-75ff-42ba-bb80-dcde8e59ab36",
   "metadata": {},
   "outputs": [
    {
     "name": "stdout",
     "output_type": "stream",
     "text": [
      "Formatted (default upper): ATGCGTAC\n",
      "Formatted (explicit lower): atgcgtac\n",
      "Formatted (explicit upper): ATGCGTAC\n"
     ]
    }
   ],
   "source": [
    "def format_sequence(sequence_string, case='upper'):\n",
    "    \"\"\"\n",
    "    Formats a DNA sequence string to specified case.\n",
    "    'sequence_string' is a required argument.\n",
    "    'case' has a default value of 'upper'.\n",
    "    \"\"\"\n",
    "    if case == 'upper':\n",
    "        return sequence_string.upper() # Convert to uppercase\n",
    "    elif case == 'lower':\n",
    "        return sequence_string.lower() # Convert to lowercase\n",
    "    else:\n",
    "        # Handle invalid case input (optional, but good practice)\n",
    "        print(f\"Warning: Invalid 'case' argument '{case}'. Returning original sequence.\")\n",
    "        return sequence_string\n",
    "\n",
    "my_dna = \"aTgCgTAc\"\n",
    "\n",
    "# Call without specifying 'case'. The function uses the default 'upper'.\n",
    "formatted_default = format_sequence(my_dna)\n",
    "print(f\"Formatted (default upper): {formatted_default}\")\n",
    "\n",
    "# Call and explicitly set 'case' to 'lower'. This overrides the default.\n",
    "formatted_lower = format_sequence(my_dna, case='lower')\n",
    "print(f\"Formatted (explicit lower): {formatted_lower}\")\n",
    "\n",
    "# You can also pass the argument by position:\n",
    "formatted_upper_explicit = format_sequence(my_dna, 'upper') #remember we mention explicit here to just highlight this is explicitly saying 'upper' (even though it is also default)\n",
    "print(f\"Formatted (explicit upper): {formatted_upper_explicit}\") "
   ]
  },
  {
   "cell_type": "code",
   "execution_count": 57,
   "id": "294e11f5-60ef-469e-aba0-42c9d0f83861",
   "metadata": {},
   "outputs": [
    {
     "name": "stdout",
     "output_type": "stream",
     "text": [
      "Dataset version inside the function is: v1.0.\n",
      "Outside function: Dataset version is v1.0\n"
     ]
    }
   ],
   "source": [
    "#global variable \n",
    "\n",
    "dataset_version= 'v1.0'\n",
    "\n",
    "def display_version(): \n",
    "    print(f'Dataset version inside the function is: {dataset_version}.')\n",
    "display_version()\n",
    "\n",
    "print(f'Outside function: Dataset version is {dataset_version}')"
   ]
  },
  {
   "cell_type": "code",
   "execution_count": 64,
   "id": "8c0e201e-d7ed-4887-bc1e-e945c77552e0",
   "metadata": {},
   "outputs": [
    {
     "name": "stdout",
     "output_type": "stream",
     "text": [
      "Inside function: Gene count is 50.\n",
      "Outside function: global gene count is 100.\n"
     ]
    }
   ],
   "source": [
    "#local variable shadows global variable\n",
    "\n",
    "gene_count= 100 #global varibale\n",
    "\n",
    "def process_genes():\n",
    "    gene_count = 50 #local variable\n",
    "    print(f'Inside function: Gene count is {gene_count}.')\n",
    "\n",
    "process_genes() #calling local variable\n",
    "print(f'Outside function: global gene count is {gene_count}.')"
   ]
  },
  {
   "cell_type": "code",
   "execution_count": 86,
   "id": "69eef50e-d808-4803-8b1a-7da80994d169",
   "metadata": {},
   "outputs": [
    {
     "name": "stdout",
     "output_type": "stream",
     "text": [
      "before function call: global analysis_status is not started\n",
      "inside function: in progress\n",
      "after function call: global analysis: status is not started\n"
     ]
    }
   ],
   "source": [
    "# attempting to modify global without global keyword\n",
    "\n",
    "analysis_status = 'not started'\n",
    "\n",
    "def update_status(new_status):\n",
    "    analysis_status = new_status\n",
    "    print(f'inside function: {analysis_status}')\n",
    "\n",
    "print(f\"before function call: global analysis_status is {analysis_status}\")\n",
    "\n",
    "update_status('in progress') #the recipe is the def function and then the calling is the execution of the recipe\n",
    "\n",
    "print(f\"after function call: global analysis: status is {analysis_status}\")"
   ]
  },
  {
   "cell_type": "code",
   "execution_count": 90,
   "id": "4ea41455-96ce-458f-9d56-2582a541a98e",
   "metadata": {},
   "outputs": [
    {
     "name": "stdout",
     "output_type": "stream",
     "text": [
      "before calling set_error:  False\n",
      "from inside the function: True\n",
      "after calling global_error: True\n"
     ]
    }
   ],
   "source": [
    "#modifying global with global keyword\n",
    "error_flag = False\n",
    "\n",
    "def set_error():\n",
    "    global error_flag\n",
    "    error_flag = True\n",
    "    print(f'from inside the function: {error_flag}')\n",
    "\n",
    "print(f'before calling set_error:  {error_flag}')\n",
    "\n",
    "set_error()\n",
    "\n",
    "print(f'after calling global_error: {error_flag}')"
   ]
  },
  {
   "cell_type": "code",
   "execution_count": null,
   "id": "ee5892e7-8a3f-49b1-bcf7-25b083c29dc3",
   "metadata": {},
   "outputs": [],
   "source": []
  }
 ],
 "metadata": {
  "kernelspec": {
   "display_name": "Python 3 (ipykernel)",
   "language": "python",
   "name": "python3"
  },
  "language_info": {
   "codemirror_mode": {
    "name": "ipython",
    "version": 3
   },
   "file_extension": ".py",
   "mimetype": "text/x-python",
   "name": "python",
   "nbconvert_exporter": "python",
   "pygments_lexer": "ipython3",
   "version": "3.9.21"
  }
 },
 "nbformat": 4,
 "nbformat_minor": 5
}
