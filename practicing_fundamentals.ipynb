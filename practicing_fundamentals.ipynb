{
 "cells": [
  {
   "cell_type": "code",
   "execution_count": 10,
   "id": "1ed892e4-0b40-4c55-9188-16d5c7250424",
   "metadata": {},
   "outputs": [
    {
     "name": "stdout",
     "output_type": "stream",
     "text": [
      "The Sequence is:ATGCGTACGAT\n",
      "The Count of G's is: 3\n"
     ]
    }
   ],
   "source": [
    "#use these string variable when practicing tasks like counting nucleotides, finding motifs, or transcription\n",
    "dna_sequence = 'ATGCGTACGAT'#counting specific bases\n",
    "\n",
    "dna_sequence_2 = 'GATTACAGATTACAGATTACA' #contains the 'GATTACA' motif #finding motifs\n",
    "\n",
    "dna_sequnce_3 = 'AGTCGTATGC' #to practice transcription \n",
    "\n",
    "protein_sequence_1 = 'MVSAAPLFRP' #using single letter amino acid codes \n",
    "\n",
    "dna_sequence_with_n = 'ATGCGNATNCGT' #n for unknown bases #checking for n\n",
    "\n",
    "#print(dna_sequence)\n",
    "\n",
    "g_count = 0 \n",
    "for nucleotide in dna_sequence:\n",
    "    if nucleotide == 'G':\n",
    "        g_count = g_count +1\n",
    "print(f'The Sequence is:{dna_sequence}')\n",
    "print(f\"The Count of G's is: {g_count}\")\n"
   ]
  },
  {
   "cell_type": "code",
   "execution_count": 12,
   "id": "5e2df260-ecde-4be6-9375-76206a9a9d67",
   "metadata": {},
   "outputs": [
    {
     "name": "stdout",
     "output_type": "stream",
     "text": [
      "Sequence: GATTACAGATTACAGATTACA\n",
      "Motif 1: GATTACA\n",
      "Is Motif 1 present?: True\n",
      "\n",
      "Motif 2: ATGC\n",
      "Is Motif 2 present?: False\n"
     ]
    }
   ],
   "source": [
    "dna_sequence_2 = 'GATTACAGATTACAGATTACA' #contains the 'GATTACA' motif #finding motifs\n",
    "motif = 'GATTACA'\n",
    "motif_2 = 'ATGC'\n",
    "\n",
    "is_motif_present = motif in dna_sequence_2\n",
    "is_motif_present_2 = motif_2 in dna_sequence_2\n",
    "\n",
    "print(f'Sequence: {dna_sequence_2}')\n",
    "print(f'Motif 1: {motif}')\n",
    "print(f'Is Motif 1 present?: {is_motif_present}')\n",
    "\n",
    "print(f'\\nMotif 2: {motif_2}')\n",
    "print(f'Is Motif 2 present?: {is_motif_present_2}')"
   ]
  },
  {
   "cell_type": "code",
   "execution_count": 28,
   "id": "c8ac9259-d77f-4542-be5b-27991ddf3637",
   "metadata": {},
   "outputs": [
    {
     "name": "stdout",
     "output_type": "stream",
     "text": [
      "DNA Sequence: GATTACAGATTACAGATTACA\n",
      "Motif's being checked: GATTACA, ATGC\n",
      "------------------------------\n",
      "\n",
      "Motif 1: GATTACA\n",
      "Position of Motif 1 (or -1 if not found): 0\n",
      "Conclusion: Motif 'GATTACA' was found in the sequence.\n",
      "\n",
      "Motif 2: ATGC\n",
      "Position of Motif 2 (or -1 if not found): -1\n",
      "Conclusion: Motif 'ATGC' was not found.\n",
      "------------------------------\n",
      "\n"
     ]
    }
   ],
   "source": [
    "dna_sequence_2 = 'GATTACAGATTACAGATTACA' #contains the 'GATTACA' motif #finding motifs\n",
    "motif = 'GATTACA'\n",
    "motif_2 = 'ATGC'\n",
    "\n",
    "motif_position_1 = dna_sequence_2.find(motif)\n",
    "motif_position_2 = dna_sequence_2.find(motif_2)\n",
    "\n",
    "\n",
    "print(f'DNA Sequence: {dna_sequence_2}')\n",
    "print(f\"Motif's being checked: {motif}, {motif_2}\")\n",
    "\n",
    "print('-'*30)\n",
    "\n",
    "print()\n",
    "\n",
    "#i created dashed lines and spacing here to make the code output more organized and easier to read \n",
    "\n",
    "print(f'Motif 1: {motif}')\n",
    "print(f'Position of Motif 1 (or -1 if not found): {motif_position_1}')\n",
    "\n",
    "if motif_position_1 != -1: \n",
    "    print(f\"Conclusion: Motif '{motif}' was found in the sequence.\")\n",
    "else:\n",
    "    print(f\"Conclusion: Motif '{motif}' was not found.\")\n",
    "\n",
    "print(f'\\nMotif 2: {motif_2}')\n",
    "print(f'Position of Motif 2 (or -1 if not found): {motif_position_2}')\n",
    "\n",
    "if motif_position_2 !=-1: \n",
    "    print(f\"Conclusion: Motif '{motif_2}' was found in the sequence.\")\n",
    "else:\n",
    "\n",
    "    print(f\"Conclusion: Motif '{motif_2}' was not found.\")\n",
    "\n",
    "\n",
    "print('-' *30)\n",
    "\n",
    "print()\n",
    "\n"
   ]
  },
  {
   "cell_type": "code",
   "execution_count": 41,
   "id": "06016380-e256-484d-bc71-043f73c33016",
   "metadata": {},
   "outputs": [
    {
     "name": "stdout",
     "output_type": "stream",
     "text": [
      "DNA Sequence: GATTACAGATTACAGATTACA\n",
      "Motifs being checked: GATTACA,ATGC,GAT\n",
      "----------------------------------------\n",
      "Motif 1: GATTACA\n",
      "Number of Occurances: 3\n",
      "Motif GATTACA was found at least once.\n",
      "\n",
      "Motif 2: ATGC\n",
      "Number of Occurances: 0\n",
      "Motif ATGC was not found even once.\n",
      "\n",
      "Motif 3: GAT\n",
      "Number of Occurances: 3\n",
      "Motif GAT was found at least once.\n",
      "----------------------------------------\n"
     ]
    }
   ],
   "source": [
    "dna_sequence_2 = 'GATTACAGATTACAGATTACA' #contains the 'GATTACA' motif #finding motifs\n",
    "motif_1 = 'GATTACA'\n",
    "motif_2 = 'ATGC'\n",
    "motif_3 = 'GAT'\n",
    "\n",
    "motif_1_count = dna_sequence_2.count(motif_1)\n",
    "motif_2_count = dna_sequence_2.count(motif_2)\n",
    "motif_3_count = dna_sequence_2.count(motif_3)\n",
    "\n",
    "print(f'DNA Sequence: {dna_sequence_2}')\n",
    "print(f'Motifs being checked: {motif_1},{motif_2},{motif_3}')\n",
    "print('-'* 40)\n",
    "\n",
    "print(f'Motif 1: {motif_1}')\n",
    "print(f'Number of Occurances: {motif_1_count}')\n",
    "if motif_1_count >0:\n",
    "    print(f'Motif {motif_1} was found at least once.')\n",
    "else:\n",
    "    print(f'Motif {motif_1} was not found even once.')\n",
    "print()\n",
    "print(f'Motif 2: {motif_2}')\n",
    "print(f'Number of Occurances: {motif_2_count}')\n",
    "if motif_2_count > 0:\n",
    "    print(f'Motif {motif_2} was found at least once.')\n",
    "else:\n",
    "    print(f'Motif {motif_2} was not found even once.')\n",
    "print()\n",
    "print(f'Motif 3: {motif_3}')\n",
    "print(f'Number of Occurances: {motif_3_count}')\n",
    "if motif_3_count >0:\n",
    "    print(f'Motif {motif_3} was found at least once.')\n",
    "else:\n",
    "    print(f'Motif {motif_3} was not found even once.')\n",
    "print('-'*40)\n",
    "\n",
    "\n"
   ]
  },
  {
   "cell_type": "code",
   "execution_count": 43,
   "id": "dbc2a47c-3b2c-4c7f-8f27-4d9933115f0f",
   "metadata": {},
   "outputs": [
    {
     "name": "stdout",
     "output_type": "stream",
     "text": [
      "Sequence: GATTACAGATTACAGATTACA\n",
      "Motif: GAT\n",
      "Starting indices of all 'GAT' occurances: [0, 7, 14]\n"
     ]
    }
   ],
   "source": [
    "dna_sequence_2 = 'GATTACAGATTACAGATTACA' #contains the 'GATTACA' motif #finding motifs\n",
    "motif = 'GAT'\n",
    "\n",
    "#a empty list to store the starting indices where the motif is found\n",
    "motif_indices = []\n",
    "\n",
    "#the position in the sequence where we will START the search for the next motif \n",
    "#we start searching from the very beginning (index 0 )\n",
    "start_search_position = 0 \n",
    "\n",
    "#use a loop to repeatedly search for the motif\n",
    "#we use a 'while True' loop and break out of it when we don''t find the motif anymore\n",
    "while True: \n",
    "    #search the next occurance of the motif\n",
    "    #.find(substring, start_index) searches for the substring starting from start_index\n",
    "    current_find_position = dna_sequence_2.find(motif, start_search_position)\n",
    "    #check if .find() actually found the motif\n",
    "    if current_find_position == -1:\n",
    "        break\n",
    "    #if we found the motif (position is not at -1) \n",
    "    else: \n",
    "        #add the position where the motif was found to our list\n",
    "        motif_indices.append(current_find_position)\n",
    "        #we update the position where the NEXT search should start (character after the current motif ends)\n",
    "        #current_find_position -- start of motif, len(motif) is the length of motif\n",
    "        #we add them to giev the position of the character after the motif\n",
    "        start_search_position = current_find_position +len(motif)\n",
    "\n",
    "        #loop is complete\n",
    "print(f'Sequence: {dna_sequence_2}')\n",
    "print(f'Motif: {motif}')\n",
    "print(f\"Starting indices of all '{motif}' occurances: {motif_indices}\")\n",
    "\n",
    "        \n",
    "        \n",
    "    "
   ]
  },
  {
   "cell_type": "code",
   "execution_count": null,
   "id": "b8d2311a-1fd0-4263-9e1b-3c4a4516798a",
   "metadata": {},
   "outputs": [],
   "source": []
  }
 ],
 "metadata": {
  "kernelspec": {
   "display_name": "Python 3 (ipykernel)",
   "language": "python",
   "name": "python3"
  },
  "language_info": {
   "codemirror_mode": {
    "name": "ipython",
    "version": 3
   },
   "file_extension": ".py",
   "mimetype": "text/x-python",
   "name": "python",
   "nbconvert_exporter": "python",
   "pygments_lexer": "ipython3",
   "version": "3.9.21"
  }
 },
 "nbformat": 4,
 "nbformat_minor": 5
}
